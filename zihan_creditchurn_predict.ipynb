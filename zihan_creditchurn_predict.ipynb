{
  "cells": [
    {
      "cell_type": "code",
      "source": [
        "import urllib.request\n",
        "import json\n",
        "import os\n",
        "import ssl\n",
        "\n",
        "def allowSelfSignedHttps(allowed):\n",
        "    # bypass the server certificate verification on client side\n",
        "    if allowed and not os.environ.get('PYTHONHTTPSVERIFY', '') and getattr(ssl, '_create_unverified_context', None):\n",
        "        ssl._create_default_https_context = ssl._create_unverified_context\n",
        "\n",
        "allowSelfSignedHttps(True) # this line is needed if you use self-signed certificate in your scoring service.\n",
        "\n",
        "# Request data goes here\n",
        "# The example below assumes JSON formatting which may be updated\n",
        "# depending on the format your endpoint expects.\n",
        "# More information can be found here:\n",
        "# https://docs.microsoft.com/azure/machine-learning/how-to-deploy-advanced-entry-script\n",
        "data =  {\n",
        "  \"Inputs\": {\n",
        "    \"input1\": [\n",
        "      {\n",
        "        \"CLIENTNUM\": 1,\n",
        "        \"Customer_Age\": 45,\n",
        "        \"Gender\": \"M\",\n",
        "        \"Dependent_count\": 3,\n",
        "        \"Education_Level\": \"High School\",\n",
        "        \"Marital_Status\": \"Married\",\n",
        "        \"Income_Category\": \"$60K - $80K\",\n",
        "        \"Card_Category\": \"Blue\",\n",
        "        \"Months_on_book\": 39,\n",
        "        \"Total_Relationship_Count\": 5,\n",
        "        \"Months_Inactive_12_mon\": 1,\n",
        "        \"Contacts_Count_12_mon\": 3,\n",
        "        \"Credit_Limit\": 12691,\n",
        "        \"Total_Revolving_Bal\": 777,\n",
        "        \"Avg_Open_To_Buy\": 11914,\n",
        "        \"Total_Amt_Chng_Q4_Q1\": 1.335,\n",
        "        \"Total_Trans_Amt\": 1144,\n",
        "        \"Total_Trans_Ct\": 42,\n",
        "        \"Total_Ct_Chng_Q4_Q1\": 1.625,\n",
        "        \"Avg_Utilization_Ratio\": 0.061\n",
        "      },\n",
        "      {\n",
        "        \"CLIENTNUM\": 2,\n",
        "        \"Customer_Age\": 51,\n",
        "        \"Gender\": \"F\",\n",
        "        \"Dependent_count\": 4,\n",
        "        \"Education_Level\": \"Unknown\",\n",
        "        \"Marital_Status\": \"Married\",\n",
        "        \"Income_Category\": \"$120K +\",\n",
        "        \"Card_Category\": \"Gold\",\n",
        "        \"Months_on_book\": 46,\n",
        "        \"Total_Relationship_Count\": 6,\n",
        "        \"Months_Inactive_12_mon\": 1,\n",
        "        \"Contacts_Count_12_mon\": 3,\n",
        "        \"Credit_Limit\": 34516,\n",
        "        \"Total_Revolving_Bal\": 2264,\n",
        "        \"Avg_Open_To_Buy\": 32252,\n",
        "        \"Total_Amt_Chng_Q4_Q1\": 1.975,\n",
        "        \"Total_Trans_Amt\": 1330,\n",
        "        \"Total_Trans_Ct\": 31,\n",
        "        \"Total_Ct_Chng_Q4_Q1\": 0.722,\n",
        "        \"Avg_Utilization_Ratio\": 0.066\n",
        "      },\n",
        "      {\n",
        "        \"CLIENTNUM\": 3,\n",
        "        \"Customer_Age\": 32,\n",
        "        \"Gender\": \"M\",\n",
        "        \"Dependent_count\": 0,\n",
        "        \"Education_Level\": \"College\",\n",
        "        \"Marital_Status\": \"Married\",\n",
        "        \"Income_Category\": \"$60K - $80K\",\n",
        "        \"Card_Category\": \"Blue\",\n",
        "        \"Months_on_book\": 26,\n",
        "        \"Total_Relationship_Count\": 2,\n",
        "        \"Months_Inactive_12_mon\": 1,\n",
        "        \"Contacts_Count_12_mon\": 2,\n",
        "        \"Credit_Limit\": 4000,\n",
        "        \"Total_Revolving_Bal\": 1000,\n",
        "        \"Avg_Open_To_Buy\": 2000,\n",
        "        \"Total_Amt_Chng_Q4_Q1\": 0.5,\n",
        "        \"Total_Trans_Amt\": 1300,\n",
        "        \"Total_Trans_Ct\": 62,\n",
        "        \"Total_Ct_Chng_Q4_Q1\": 0.5,\n",
        "        \"Avg_Utilization_Ratio\": 0.8\n",
        "      }\n",
        "    ]\n",
        "  },\n",
        "  \"GlobalParameters\": {\n",
        "    \"compute-opt\": \"compute-opt\"\n",
        "  }\n",
        "}\n",
        "\n",
        "body = str.encode(json.dumps(data))\n",
        "\n",
        "url = 'http://63f3a132-4959-4085-b60b-d1dd5dc81117.eastus.azurecontainer.io/score'\n",
        "# Replace this with the primary/secondary key or AMLToken for the endpoint\n",
        "api_key = '6tGRelfokNpFHY00D2OLgetPDAqlP6ry'\n",
        "if not api_key:\n",
        "    raise Exception(\"A key should be provided to invoke the endpoint\")\n",
        "\n",
        "\n",
        "headers = {'Content-Type':'application/json', 'Authorization':('Bearer '+ api_key)}\n",
        "\n",
        "req = urllib.request.Request(url, body, headers)\n",
        "\n",
        "try:\n",
        "    response = urllib.request.urlopen(req)\n",
        "\n",
        "    result = response.read()\n",
        "    print(result)\n",
        "except urllib.error.HTTPError as error:\n",
        "    print(\"The request failed with status code: \" + str(error.code))\n",
        "\n",
        "    # Print the headers - they include the requert ID and the timestamp, which are useful for debugging the failure\n",
        "    print(error.info())\n",
        "    print(error.read().decode(\"utf8\", 'ignore'))"
      ],
      "outputs": [
        {
          "output_type": "stream",
          "name": "stdout",
          "text": "b'{\"Results\": {\"WebServiceOutput0\": [{\"Prediction\": \"Existing Customer\", \"Probability\": 0.9999671117290155}, {\"Prediction\": \"Existing Customer\", \"Probability\": 0.9997131177798467}, {\"Prediction\": \"Existing Customer\", \"Probability\": 0.9891436070312668}]}}'\n"
        }
      ],
      "execution_count": 1,
      "metadata": {
        "gather": {
          "logged": 1700170026331
        }
      }
    },
    {
      "cell_type": "code",
      "source": [
        "endpoint = 'http://63f3a132-4959-4085-b60b-d1dd5dc81117.eastus.azurecontainer.io/score' #Replace with your endpoint\n",
        "key = '6tGRelfokNpFHY00D2OLgetPDAqlP6ry' #Replace with your key\n",
        "\n",
        "import urllib.request\n",
        "import json\n",
        "import os\n",
        "\n",
        "# Prepare the input data\n",
        "data = {\n",
        "    \"Inputs\": {\n",
        "        \"input1\":\n",
        "        [\n",
        "            {\n",
        "                \"CLIENTNUM\": 3,\n",
        "                \"Customer_Age\": 32,\n",
        "                \"Gender\": \"M\",\n",
        "                \"Dependent_count\": 0,\n",
        "                \"Education_Level\": \"College\",\n",
        "                \"Marital_Status\": \"Married\",\n",
        "                \"Income_Category\": \"$60K - $80K\",\n",
        "                \"Card_Category\": \"Blue\",\n",
        "                \"Months_on_book\": 26,\n",
        "                \"Total_Relationship_Count\": 2,\n",
        "                \"Months_Inactive_12_mon\": 1,\n",
        "                \"Contacts_Count_12_mon\": 2,\n",
        "                \"Credit_Limit\": 4000,\n",
        "                \"Total_Revolving_Bal\": 1000,\n",
        "                \"Avg_Open_To_Buy\": 2000,\n",
        "                \"Total_Amt_Chng_Q4_Q1\": 0.5,\n",
        "                \"Total_Trans_Amt\": 1300,\n",
        "                \"Total_Trans_Ct\": 62,\n",
        "                \"Total_Ct_Chng_Q4_Q1\": 0.5,\n",
        "                \"Avg_Utilization_Ratio\": 0.8\n",
        "            }\n",
        "        ],\n",
        "    },\n",
        "    \"GlobalParameters\":  {\n",
        "    }\n",
        "}\n",
        "body = str.encode(json.dumps(data))\n",
        "headers = {'Content-Type':'application/json', 'Authorization':('Bearer '+ key)}\n",
        "req = urllib.request.Request(endpoint, body, headers)\n",
        "\n",
        "try:\n",
        "    response = urllib.request.urlopen(req)\n",
        "    result = response.read()\n",
        "    json_result = json.loads(result)\n",
        "    y = json_result[\"Results\"][\"WebServiceOutput0\"][0][\"Prediction\"]\n",
        "    print(f'Prediction: {y}')\n",
        "\n",
        "except urllib.error.HTTPError as error:\n",
        "    print(\"The request failed with status code: \" + str(error.code))\n",
        "\n",
        "    # Print the headers to help debug the error\n",
        "    print(error.info())\n",
        "    print(json.loads(error.read().decode(\"utf8\", 'ignore')))"
      ],
      "outputs": [
        {
          "output_type": "stream",
          "name": "stdout",
          "text": "Prediction: Existing Customer\n"
        }
      ],
      "execution_count": 8,
      "metadata": {
        "jupyter": {
          "source_hidden": false,
          "outputs_hidden": false
        },
        "nteract": {
          "transient": {
            "deleting": false
          }
        },
        "gather": {
          "logged": 1700171128667
        }
      }
    }
  ],
  "metadata": {
    "kernelspec": {
      "name": "python310-sdkv2",
      "language": "python",
      "display_name": "Python 3.10 - SDK v2"
    },
    "language_info": {
      "name": "python",
      "version": "3.10.11",
      "mimetype": "text/x-python",
      "codemirror_mode": {
        "name": "ipython",
        "version": 3
      },
      "pygments_lexer": "ipython3",
      "nbconvert_exporter": "python",
      "file_extension": ".py"
    },
    "microsoft": {
      "ms_spell_check": {
        "ms_spell_check_language": "en"
      },
      "host": {
        "AzureML": {
          "notebookHasBeenCompleted": true
        }
      }
    },
    "kernel_info": {
      "name": "python310-sdkv2"
    },
    "nteract": {
      "version": "nteract-front-end@1.0.0"
    }
  },
  "nbformat": 4,
  "nbformat_minor": 2
}